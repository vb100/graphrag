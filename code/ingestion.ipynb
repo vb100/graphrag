{
 "cells": [
  {
   "cell_type": "markdown",
   "metadata": {},
   "source": [
    "<h3>Import modules and packages</h3>"
   ]
  },
  {
   "cell_type": "code",
   "execution_count": 1,
   "metadata": {},
   "outputs": [],
   "source": [
    "import pandas as pd"
   ]
  },
  {
   "cell_type": "markdown",
   "metadata": {},
   "source": [
    "<h3>Load raw data</h3>"
   ]
  },
  {
   "cell_type": "code",
   "execution_count": 5,
   "metadata": {},
   "outputs": [
    {
     "name": "stdout",
     "output_type": "stream",
     "text": [
      "category_df = (8, 4)\n",
      "product_df = (77, 10)\n",
      "supplier_df = (29, 12)\n"
     ]
    }
   ],
   "source": [
    "category_df = pd.read_csv('../data/categories.csv')\n",
    "product_df = pd.read_csv('../data/products.csv')\n",
    "supplier_df = pd.read_csv('../data/suppliers.csv')\n",
    "\n",
    "# Print basic information for the loaded datasets\n",
    "print(f'category_df = {category_df.shape}')\n",
    "print(f'product_df = {product_df.shape}')\n",
    "print(f'supplier_df = {supplier_df.shape}')"
   ]
  },
  {
   "cell_type": "code",
   "execution_count": null,
   "metadata": {},
   "outputs": [],
   "source": []
  }
 ],
 "metadata": {
  "kernelspec": {
   "display_name": "venv",
   "language": "python",
   "name": "python3"
  },
  "language_info": {
   "codemirror_mode": {
    "name": "ipython",
    "version": 3
   },
   "file_extension": ".py",
   "mimetype": "text/x-python",
   "name": "python",
   "nbconvert_exporter": "python",
   "pygments_lexer": "ipython3",
   "version": "3.12.5"
  }
 },
 "nbformat": 4,
 "nbformat_minor": 2
}
